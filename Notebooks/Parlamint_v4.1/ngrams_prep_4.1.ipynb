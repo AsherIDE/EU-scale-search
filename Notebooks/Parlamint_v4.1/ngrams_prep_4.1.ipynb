{
 "cells": [
  {
   "cell_type": "markdown",
   "id": "8d27c914",
   "metadata": {},
   "source": [
    "# Debate a base\n",
    "#### Update script (Parlamint 4.1)\n",
    "- Make sure you have all the required imports and you should be good to go!\n",
    "- If something is not working there are testing areas available below most cells."
   ]
  },
  {
   "cell_type": "code",
   "execution_count": 3,
   "id": "dc1ca6f8",
   "metadata": {},
   "outputs": [],
   "source": [
    "# 4.1 country list\n",
    "selected_countries = ['ParlaMint-AT-en.TEI.ana', \n",
    "                      'ParlaMint-BA-en.TEI.ana', \n",
    "                      'ParlaMint-BE-en.TEI.ana', \n",
    "                      'ParlaMint-BG-en.TEI.ana', \n",
    "                      'ParlaMint-CZ-en.TEI.ana', \n",
    "                      'ParlaMint-DK-en.TEI.ana', \n",
    "                      'ParlaMint-EE-en.TEI.ana', \n",
    "                      'ParlaMint-ES-CT-en.TEI.ana', \n",
    "                      'ParlaMint-ES-en.TEI.ana', \n",
    "                      'ParlaMint-ES-GA-en.TEI.ana', \n",
    "                      'ParlaMint-ES-PV-en.TEI.ana', \n",
    "                      'ParlaMint-FI-en.TEI.ana', \n",
    "                      'ParlaMint-FR-en.TEI.ana', \n",
    "                      'ParlaMint-GB-en.TEI.ana', \n",
    "                      'ParlaMint-GR-en.TEI.ana', \n",
    "                      'ParlaMint-HR-en.TEI.ana', \n",
    "                      'ParlaMint-HU-en.TEI.ana', \n",
    "                      'ParlaMint-IS-en.TEI.ana', \n",
    "                      'ParlaMint-IT-en.TEI.ana', \n",
    "                      'ParlaMint-LV-en.TEI.ana', \n",
    "                      'ParlaMint-NL-en.TEI.ana', \n",
    "                      'ParlaMint-NO-en.TEI.ana', \n",
    "                      'ParlaMint-PL-en.TEI.ana', \n",
    "                      'ParlaMint-PT-en.TEI.ana', \n",
    "                      'ParlaMint-RS-en.TEI.ana', \n",
    "                      'ParlaMint-SE-en.TEI.ana', \n",
    "                      'ParlaMint-SI-en.TEI.ana', \n",
    "                      'ParlaMint-TR-en.TEI.ana', \n",
    "                      'ParlaMint-UA-en.TEI.ana']"
   ]
  },
  {
   "cell_type": "code",
   "execution_count": 1,
   "id": "bfec2b79",
   "metadata": {},
   "outputs": [],
   "source": [
    "# Local paths according to the step-by-step guide\n",
    "original_set = \"../data/original/EU\"\n",
    "translated_set = \"../data/original/EN\"\n",
    "csv_set = \"../data/preprocessed\""
   ]
  },
  {
   "cell_type": "markdown",
   "id": "9660f724",
   "metadata": {},
   "source": [
    "### Helpers"
   ]
  },
  {
   "cell_type": "code",
   "execution_count": 2,
   "id": "370ffd5b",
   "metadata": {},
   "outputs": [],
   "source": [
    "# Imports\n",
    "import os\n",
    "\n",
    "import warnings\n",
    "warnings.filterwarnings('ignore')\n",
    "\n",
    "import re\n",
    "import csv\n",
    "\n",
    "from bs4 import BeautifulSoup as bs\n",
    "from joblib import Parallel, delayed"
   ]
  },
  {
   "cell_type": "code",
   "execution_count": 4,
   "id": "1162c99a",
   "metadata": {},
   "outputs": [],
   "source": [
    "# Retrieve the file structure\n",
    "def get_xml_files(country_selection, target=translated_set):\n",
    "    \n",
    "    country_return_list = []\n",
    "    \n",
    "    # loop door alle folders die hierboven zijn geprint\n",
    "    for country in os.listdir(target):\n",
    "\n",
    "        # filter op specifiek land (IN BOX 2)\n",
    "        if country in country_selection:\n",
    "            paths_dict = {}\n",
    "\n",
    "            # ga door alle inhoud van de landfolder heen\n",
    "            for root, dirs, files in os.walk(os.path.join(target, country)):\n",
    "                file_data = []\n",
    "                \n",
    "                # loop door files van een folder\n",
    "                for file in files:\n",
    "\n",
    "                    #filter alleen de xml files\n",
    "                    if \".xml\" in file and not \"~\" in file:\n",
    "                        file_data.append(file)\n",
    "\n",
    "                # filter onzin uit de dict voor makkelijkere processing later\n",
    "                if not \"Schema\" in root:\n",
    "                    paths_dict[root] = file_data\n",
    "\n",
    "            country_return_list.append(paths_dict)\n",
    "        \n",
    "    return country_return_list"
   ]
  },
  {
   "cell_type": "code",
   "execution_count": 5,
   "id": "e497812c",
   "metadata": {},
   "outputs": [],
   "source": [
    "# functie testruimte\n",
    "# selected_countries = [\"ParlaMint-NL-en.TEI.ana\"]\n",
    "\n",
    "# answer = get_xml_files(selected_countries)\n",
    "\n",
    "# print(answer)"
   ]
  },
  {
   "cell_type": "code",
   "execution_count": 6,
   "id": "4f590a68",
   "metadata": {},
   "outputs": [],
   "source": [
    "# vraag een dict met k (userline) v (sentence)\n",
    "def get_translated_dict(path):\n",
    "    \n",
    "    with open(path, \"r\", encoding=\"utf-8\") as file:\n",
    "        # read each line in the file, readlines() returns a list of lines\n",
    "        content = file.readlines()\n",
    "        # combine the lines in the list into a string\n",
    "        content = \"\".join(content)\n",
    "        bs_content = bs(content, \"lxml\")\n",
    "\n",
    "    # ga door alle segmenten info heen\n",
    "    userlines = bs_content.find_all(\"u\")\n",
    "    segments = dict()\n",
    "    for line in userlines:\n",
    "        seg = line.get(\"xml:id\")\n",
    "        \n",
    "        # combineer de woorden tot een zin\n",
    "        combined_line = \"\"\n",
    "        for part_of_line in line.find_all(\"seg\"):\n",
    "            combined_line += part_of_line.text\n",
    "            combined_line = combined_line.replace(\"\\n\\n\", \" \").replace(\"\\n\", \" \").replace(\"  \", \" \")\n",
    "        \n",
    "        # zet de interpunctie goed\n",
    "        start_index = 0\n",
    "        punctuated_line = \"\"\n",
    "        for dot in re.finditer(\"\\.|,|\\?|\\!|\\)|;\", combined_line):\n",
    "            index = dot.start()\n",
    "\n",
    "            if combined_line[index - 1] == \" \":\n",
    "                punctuated_line += combined_line[start_index:(index - 1)] + combined_line[index]\n",
    "\n",
    "                start_index = (index + 1)\n",
    "        \n",
    "        # voorkom dat zinnen zonder interpunctie missing gaan\n",
    "        if punctuated_line == \"\":\n",
    "            punctuated_line = combined_line\n",
    "\n",
    "        # haal de spatie op het begin weg\n",
    "        if len(punctuated_line) > 0 and punctuated_line[0] == \" \":\n",
    "            punctuated_line = punctuated_line[1:]\n",
    "            \n",
    "        # sla de zin op met seg als key\n",
    "        segments[seg] = punctuated_line.replace(\"  \", \" \")\n",
    "\n",
    "    return segments"
   ]
  },
  {
   "cell_type": "code",
   "execution_count": 7,
   "id": "6f9e9147",
   "metadata": {},
   "outputs": [],
   "source": [
    "# functie testruimte\n",
    "# translate_path_test = r\"D:\\\\DebateABase\\\\data\\\\original\\\\EN\\\\ParlaMint-BE-en.TEI.ana\\\\2016\\\\ParlaMint-BE-en_2016-01-06-54-commissie-ic299x.ana.xml\"\n",
    "\n",
    "# for k, v in get_translated_dict(translate_path_test).items():\n",
    "#     print(k, \"\\n<\" + v + \">\\n\\n\")"
   ]
  },
  {
   "cell_type": "markdown",
   "id": "cd10075b",
   "metadata": {},
   "source": [
    "### Data to .csv files\n",
    "- The following code puts all countries into .csv files\n",
    "- NOTE: ParlaMint 3.0 required \"Scrap great britain 3.0.ipynb\" file to put GB into .csv file format, since it was not part of the translated XML dataset before. In case that will happen ever again, you will have to use that `.ipnb` (with slight alterations due to it being outdated) to preprocess it into `.csv` files."
   ]
  },
  {
   "cell_type": "code",
   "execution_count": null,
   "id": "db94e286",
   "metadata": {},
   "outputs": [],
   "source": [
    "# maak een folder per land aan (als dat nog niet gedaan is)\n",
    "def verify_country_folders():\n",
    "    for country in os.listdir(translated_set):\n",
    "        \n",
    "        country_short = country.replace(\"ParlaMint-\", \"\").replace(\"-en.TEI.ana\", \"\")\n",
    "        if country_short not in os.listdir(csv_set):\n",
    "            os.mkdir(os.path.join(csv_set, country_short))\n",
    "            \n",
    "            print(f\"[Info]: {country_short} folder created\")\n",
    "    \n",
    "    return f\"[Info]: .csv folders exist\"\n",
    "        \n",
    "verify_country_folders()"
   ]
  },
  {
   "cell_type": "code",
   "execution_count": 9,
   "id": "985d089a",
   "metadata": {},
   "outputs": [],
   "source": [
    "# maak een csv waar segments zijn gemerged per file\n",
    "def create_userline_csv(file, content):\n",
    "    \n",
    "    with open(os.path.join(csv_set, file), 'w', newline='', encoding=\"utf-8\") as f:\n",
    "        w = csv.writer(f)\n",
    "        w.writerow([\"key\", \"value\"])\n",
    "        \n",
    "        for k, v in content.items():\n",
    "            \n",
    "            w.writerow([k, v])"
   ]
  },
  {
   "cell_type": "code",
   "execution_count": 10,
   "id": "e8c6c46a",
   "metadata": {},
   "outputs": [],
   "source": [
    "# functie testruimte\n",
    "# userline_test_file = \"NL\\\\text_xd.csv\"\n",
    "\n",
    "# translate_path_test = r\"D:\\Debate_a_Base\\Data\\Parlamint_3.0\\Overkoepelende_taal\\translated_extract\\ParlaMint-BG-en.TEI.ana\\2014\\ParlaMint-BG-en_2014-11-05.ana.xml\"\n",
    "\n",
    "# create_userline_csv(userline_test_file, get_translated_dict(translate_path_test))"
   ]
  },
  {
   "cell_type": "code",
   "execution_count": 11,
   "id": "af173da4",
   "metadata": {},
   "outputs": [],
   "source": [
    "# crates .csv files from all translated content of the given countries\n",
    "def create_csvs(selected_countries, cnt=0):\n",
    "\n",
    "    # vraag alle xml files op van de gegeven land(en)\n",
    "    countries = get_xml_files(selected_countries)\n",
    "    \n",
    "    # loop door elk land heen\n",
    "    for country in countries:\n",
    "        \n",
    "        # split hoofdfolder van mogelijke subfolders van jaren\n",
    "        rootfolder = (k := next(iter(country)), country.pop(k))\n",
    "        \n",
    "        # country label (bv: GB of NL of BE)\n",
    "        cty = rootfolder[0].replace(\"ParlaMint-\", \"\").replace(\"-en.TEI.ana\", \"\").split(\"\\\\\")[1]\n",
    "\n",
    "        def multithread_year_folder(year_folder):\n",
    "            for file in country[year_folder]:\n",
    "                path = os.path.join(year_folder, file)\n",
    "\n",
    "                create_userline_csv(f'{cty}\\\\{file.replace(\".ana.xml\", \".csv\")}', get_translated_dict(path))\n",
    "\n",
    "            print(f'[Created]: {year_folder} .csv files from {cty}')\n",
    "\n",
    "        # process every yearfolder at the same time per country\n",
    "        Parallel(n_jobs=len(country))(delayed(multithread_year_folder)(year_folder) for year_folder in country)\n",
    "        # without multiprocessing for testing purposes (if uncommented, comment line above)\n",
    "        # for year_folder in country:\n",
    "        #     multithread_year_folder(year_folder=year_folder)\n",
    "\n",
    "        \n",
    "        print(f'[Created]: {cty} .csv files')\n",
    "    \n",
    "    return"
   ]
  },
  {
   "cell_type": "markdown",
   "id": "49d64636",
   "metadata": {},
   "source": [
    "### Progress\n",
    "- The cell below gives a print for every country's files, when they have been preprocessed into `.csv` format"
   ]
  },
  {
   "cell_type": "code",
   "execution_count": null,
   "id": "1fe6f6c1",
   "metadata": {},
   "outputs": [],
   "source": [
    "# Creates all .csv's\n",
    "create_csvs(selected_countries)"
   ]
  },
  {
   "cell_type": "markdown",
   "id": "84f9e9fb",
   "metadata": {},
   "source": [
    "### Multiprocessing\n",
    "- Just some practice for me"
   ]
  },
  {
   "cell_type": "code",
   "execution_count": 13,
   "id": "61f892fc",
   "metadata": {},
   "outputs": [],
   "source": [
    "# https://measurespace.medium.com/use-joblib-to-run-your-python-code-in-parallel-ad82abb26954\n",
    "# import time, math\n",
    "# def my_fun(i):\n",
    "#     \"\"\" We define a simple function here.\n",
    "#     \"\"\"\n",
    "#     r = i.split(\"-\")[1]\n",
    "#     return r"
   ]
  },
  {
   "cell_type": "code",
   "execution_count": 14,
   "id": "4779df94",
   "metadata": {},
   "outputs": [],
   "source": [
    "# start = time.time()\n",
    "# # n_jobs is the number of parallel jobs\n",
    "# x = Parallel(n_jobs=5)(delayed(my_fun)(i) for i in selected_countries)\n",
    "# end = time.time()\n",
    "# print('{:.4f} s'.format(end-start))\n",
    "# print(x)"
   ]
  }
 ],
 "metadata": {
  "kernelspec": {
   "display_name": "Python 3",
   "language": "python",
   "name": "python3"
  },
  "language_info": {
   "codemirror_mode": {
    "name": "ipython",
    "version": 3
   },
   "file_extension": ".py",
   "mimetype": "text/x-python",
   "name": "python",
   "nbconvert_exporter": "python",
   "pygments_lexer": "ipython3",
   "version": "3.11.8"
  }
 },
 "nbformat": 4,
 "nbformat_minor": 5
}
