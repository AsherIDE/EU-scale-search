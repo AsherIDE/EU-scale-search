{
 "cells": [
  {
   "cell_type": "markdown",
   "id": "1515342e",
   "metadata": {},
   "source": [
    "# Debate a base\n",
    "#### Update script (Parlamint 4.1)\n",
    "- Counts the total amount of words spoken per country per day\n",
    "- Outputted file needs to replace `static/helpers/proper_word_counts.csv` within the website (when you are working with a version which is NOT Parlamint 4.1)\n",
    "- Just make sure all imports are working and you should be able to just run it"
   ]
  },
  {
   "cell_type": "code",
   "execution_count": 1,
   "id": "6399fff3",
   "metadata": {},
   "outputs": [],
   "source": [
    "# Imports\n",
    "import os\n",
    "\n",
    "import warnings\n",
    "warnings.filterwarnings('ignore')\n",
    "\n",
    "import time\n",
    "import re\n",
    "import pandas as pd\n",
    "from bs4 import BeautifulSoup as bs"
   ]
  },
  {
   "cell_type": "code",
   "execution_count": 2,
   "id": "c5786e1c",
   "metadata": {},
   "outputs": [],
   "source": [
    "# dir\n",
    "translated_csv_dir = \"../data/preprocessed\""
   ]
  },
  {
   "cell_type": "code",
   "execution_count": 36,
   "id": "1d812b5c",
   "metadata": {},
   "outputs": [],
   "source": [
    "# return list met dict [{Land1}, {Land 1}]\n",
    "def get_csv_files(country_selection):\n",
    "    # os.chdir(translated_csv_dir)\n",
    "    \n",
    "    country_return_list = []\n",
    "\n",
    "    # loop door alle folders die hierboven zijn geprint\n",
    "    for country in os.listdir(translated_csv_dir):\n",
    "        \n",
    "        # filter op specifiek land (IN BOX 2)\n",
    "        if country == country_selection:\n",
    "            paths_dict = {}\n",
    "\n",
    "            # ga door alle inhoud van de landfolder heen\n",
    "            for root, dirs, files in os.walk(os.path.join(translated_csv_dir, country)):\n",
    "                file_data = []\n",
    "                \n",
    "                # loop door files van een folder\n",
    "                for file in files:\n",
    "                    \n",
    "                    file_data.append(file)\n",
    "\n",
    "                paths_dict[root.split(\"\\\\\")[1]] = file_data\n",
    "\n",
    "            country_return_list.append(paths_dict)\n",
    "        \n",
    "    return country_return_list"
   ]
  },
  {
   "cell_type": "code",
   "execution_count": 4,
   "id": "27b34479",
   "metadata": {},
   "outputs": [],
   "source": [
    "# haal jaar maand en dag uit filename\n",
    "def extract_file_date(file_name):\n",
    "    \n",
    "    year_month_day = re.search(r\"\\d{4}-\\d{2}-\\d{2}\", file_name)\n",
    "#     year, month, day = year_month_day[0].split(\"-\")\n",
    "    \n",
    "    return year_month_day[0]"
   ]
  },
  {
   "cell_type": "code",
   "execution_count": 29,
   "id": "4738a7e9",
   "metadata": {},
   "outputs": [],
   "source": [
    "# geeft een dict met dates als keys en files als vals\n",
    "def get_files_per_date(country, after=None):\n",
    "    files = get_csv_files(country)[0][country]\n",
    "    \n",
    "    dates_dict = {}\n",
    "    \n",
    "    if after is not None:\n",
    "        \n",
    "        after = time.mktime(datetime.datetime.strptime(after, \"%Y-%m-%d\").timetuple())\n",
    "    \n",
    "    # loop door alle files heen\n",
    "    for file in files:\n",
    "        \n",
    "        date = extract_file_date(file)\n",
    "        \n",
    "        # filter al geuploade dates uit de dict\n",
    "        if after is not None:\n",
    "            timestamp = time.mktime(datetime.datetime.strptime(date, \"%Y-%m-%d\").timetuple())\n",
    "            \n",
    "            if (timestamp - after) <= 0:\n",
    "                \n",
    "                continue\n",
    "        \n",
    "        if date in dates_dict.keys():\n",
    "            \n",
    "            dates_dict[date] += [file]\n",
    "            \n",
    "        else:\n",
    "            \n",
    "            dates_dict[date] = [file]\n",
    "            \n",
    "    return dates_dict"
   ]
  },
  {
   "cell_type": "code",
   "execution_count": 12,
   "id": "4cfcff45",
   "metadata": {},
   "outputs": [],
   "source": [
    "# maakt paths aan voor alle files die bij een date horen\n",
    "def get_date_paths(root, files):\n",
    "    # os.chdir(translated_csv_dir)\n",
    "    \n",
    "    paths = []\n",
    "    \n",
    "    for file in files:\n",
    "        paths.append(os.path.join(translated_csv_dir, root, file))\n",
    "        \n",
    "    return paths"
   ]
  },
  {
   "cell_type": "code",
   "execution_count": 7,
   "id": "b2f39c00",
   "metadata": {},
   "outputs": [],
   "source": [
    "# kijk hoeveel woorden in alle files van een date staan\n",
    "def get_date_word_count(paths):\n",
    "    word_count = 0\n",
    "    \n",
    "    for path in paths:\n",
    "        df = pd.read_csv(path)\n",
    "\n",
    "        for sentence in df[\"value\"]:\n",
    "            \n",
    "            if type(sentence) != float:\n",
    "\n",
    "                # haal special characters weg en haal vervolgens '' uit list weg\n",
    "                sentence_list = list(filter(lambda x: len(x) > 0, sentence.translate ({ord(c): \" \" for c in '!@#$%^&*()[]{};:,./<>?\\|`~-–=_+\"'}).split(\" \")))\n",
    "                \n",
    "                word_count += len(sentence_list)\n",
    "                                     \n",
    "            else:\n",
    "                # add one word for each empty line in a file\n",
    "                word_count += 1\n",
    "        \n",
    "    return word_count"
   ]
  },
  {
   "cell_type": "markdown",
   "id": "24a9ac98",
   "metadata": {},
   "source": [
    "### Progress\n",
    "- The cell below should show a dataframe, after the entire notebook is finished"
   ]
  },
  {
   "cell_type": "code",
   "execution_count": null,
   "id": "b85faf60",
   "metadata": {
    "scrolled": true
   },
   "outputs": [],
   "source": [
    "# pak alle word counts van alle translated countries op datum\n",
    "translated_countries = os.listdir(translated_csv_dir)\n",
    "savethis_df = pd.DataFrame({'country': [],\n",
    "                            'date': [],\n",
    "                            'words': []})\n",
    "\n",
    "for country in translated_countries:\n",
    "    \n",
    "    # loop door elke date heen en de files die er bij horen\n",
    "    for date, files in get_files_per_date(country).items():\n",
    "        \n",
    "        # vraag per date de paths op van files\n",
    "        count = get_date_word_count(get_date_paths(country, files))\n",
    "\n",
    "        # zet alles in een df\n",
    "        savethis_df.loc[len(savethis_df.index)] = [country, date, count]\n",
    "\n",
    "display(savethis_df)\n",
    "\n",
    "csv_loc = '../data/xml_word_counts.csv'\n",
    "\n",
    "savethis_df.to_csv(csv_loc, index=False)\n",
    "\n",
    "df_words_import = pd.read_csv(csv_loc)\n",
    "\n",
    "display(df_words_import)"
   ]
  },
  {
   "cell_type": "code",
   "execution_count": 9,
   "id": "f8a27f50",
   "metadata": {},
   "outputs": [],
   "source": [
    "# # functie testruimte\n",
    "# t_folder = \"BE\"\n",
    "# t_date = '2014-07-30'\n",
    "\n",
    "# test_dates_dict = get_files_per_date(t_folder)\n",
    "# # print(test_dates_dict)\n",
    "# test_paths = get_date_paths(t_folder, test_dates_dict[t_date ])\n",
    "# # print(test_paths)\n",
    "# test_count = get_date_word_count(test_paths)\n",
    "# print(test_count)"
   ]
  }
 ],
 "metadata": {
  "kernelspec": {
   "display_name": "Python 3",
   "language": "python",
   "name": "python3"
  },
  "language_info": {
   "codemirror_mode": {
    "name": "ipython",
    "version": 3
   },
   "file_extension": ".py",
   "mimetype": "text/x-python",
   "name": "python",
   "nbconvert_exporter": "python",
   "pygments_lexer": "ipython3",
   "version": "3.11.8"
  }
 },
 "nbformat": 4,
 "nbformat_minor": 5
}
