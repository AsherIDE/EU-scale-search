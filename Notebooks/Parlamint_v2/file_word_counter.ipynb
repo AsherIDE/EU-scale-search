{
 "cells": [
  {
   "cell_type": "code",
   "execution_count": null,
   "id": "fcda178f",
   "metadata": {},
   "outputs": [],
   "source": [
    "# Imports\n",
    "import os\n",
    "\n",
    "import warnings\n",
    "warnings.filterwarnings('ignore')\n",
    "\n",
    "import pandas as pd\n",
    "from bs4 import BeautifulSoup as bs"
   ]
  },
  {
   "cell_type": "code",
   "execution_count": null,
   "id": "424d0cf2",
   "metadata": {},
   "outputs": [],
   "source": [
    "# --------------------------------------------------------------------------------------\n",
    "# Vereist list met folder van landen bv: ['ParlaMint-NL.TEI', \"ParlaMint-BE.TEI\"]\n",
    "#\n",
    "# ---Return list met dict [{Land1}, {Land 1}]---\n",
    "#\n",
    "# Voorbeeld voor land MET jaarfolders:\n",
    "# item 1 --> 'land folder': [land xml] bv: 'ParlaMint-NL.TEI': ['ParlaMint-NL.xml']\n",
    "# item rest --> 'ParlaMint-NL.TEI\\\\2014': ['ParlaMint-NL_2014-04-16-tweedekamer-2.xml', '...']\n",
    "#\n",
    "# Voorbeeld met land ZONDER jaarfolder:\n",
    "# items (alle) --> {'ParlaMint-BG.TEI': ['ParlaMint-BG.xml', 'ParlaMint-BG_2014-10-27.xml', '...'}\n",
    "#\n",
    "# Ofwel len(dict) > 1 bij landen met jaarfolders, anders zit speciale file inbegrepen als eerste in dict\n",
    "#\n",
    "#  Path vinden met os.path.join(key, value[x])\n",
    "# --------------------------------------------------------------------------------------\n",
    "\n",
    "def get_xml_files(country_selection):\n",
    "    os.chdir(r\"C:\\Users\\Asher\\Documents\\School\\_Scriptie\\Data\\Data_Extract\")\n",
    "    \n",
    "    country_return_list = []\n",
    "\n",
    "    # loop door alle folders die hierboven zijn geprint\n",
    "    for country in os.listdir():\n",
    "\n",
    "        # filter op specifiek land (IN BOX 2)\n",
    "        if country in country_selection:\n",
    "            paths_dict = {}\n",
    "\n",
    "            # ga door alle inhoud van de landfolder heen\n",
    "            for root, dirs, files in os.walk(country):\n",
    "                file_data = []\n",
    "                \n",
    "                # loop door files van een folder\n",
    "                for file in files:\n",
    "\n",
    "                    #filter alleen de xml files\n",
    "                    if \".xml\" in file and not \"~\" in file:\n",
    "                        file_data.append(file)\n",
    "\n",
    "                # filter onzin uit de dict voor makkelijkere processing later\n",
    "                if not \"Schema\" in root:\n",
    "                    paths_dict[root] = file_data\n",
    "\n",
    "            country_return_list.append(paths_dict)\n",
    "        \n",
    "    return country_return_list"
   ]
  },
  {
   "cell_type": "code",
   "execution_count": null,
   "id": "993a4144",
   "metadata": {
    "scrolled": true
   },
   "outputs": [],
   "source": [
    "# functie testruimte\n",
    "selected_countries = [\"ParlaMint-NL.TEI\"]\n",
    "\n",
    "answer = get_xml_files(selected_countries)\n",
    "\n",
    "print(answer)"
   ]
  },
  {
   "cell_type": "code",
   "execution_count": null,
   "id": "0f288efb",
   "metadata": {},
   "outputs": [],
   "source": [
    "def extract_wordcount(root, file):\n",
    "    os.chdir(r\"C:\\Users\\Asher\\Documents\\School\\_Scriptie\\Data\\Data_Extract\")\n",
    "    \n",
    "    path = os.path.join(root, file)\n",
    "    \n",
    "    # lees het bestand\n",
    "    with open(path, \"r\", encoding=\"utf-8\") as file:\n",
    "        # read each line in the file, readlines() returns a list of lines\n",
    "        content = file.readlines()\n",
    "        # combine the lines in the list into a string\n",
    "        content = \"\".join(content)\n",
    "        bs_content = bs(content, \"lxml\")\n",
    "        \n",
    "    words = bs_content.find_all(\"measure\")[-1].get(\"quantity\")\n",
    "    \n",
    "    return words"
   ]
  },
  {
   "cell_type": "code",
   "execution_count": null,
   "id": "7d5f3472",
   "metadata": {},
   "outputs": [],
   "source": [
    "# functie testruimte\n",
    "root, file = \"ParlaMint-NL.TEI\\\\2014\", \"ParlaMint-NL_2014-04-16-tweedekamer-2.xml\"\n",
    "\n",
    "test_json = extract_wordcount(root, file)\n",
    "\n",
    "print(test_json)"
   ]
  },
  {
   "cell_type": "code",
   "execution_count": null,
   "id": "9a53db22",
   "metadata": {},
   "outputs": [],
   "source": [
    "def get_wordcount_df(selected_countries):\n",
    "    \n",
    "    # zet de df op voor de wordcount\n",
    "    wordcount_df = pd.DataFrame({'country': [],\n",
    "                                 'filename': [],\n",
    "                                 'words': []})\n",
    "    \n",
    "    # vraag alle xml files op van de gegeven land(en)\n",
    "    countries = get_xml_files(selected_countries)\n",
    "    \n",
    "    # loop door elk land heen\n",
    "    for country in countries:\n",
    "        \n",
    "        # split hoofdfolder van mogelijke subfolders van jaren\n",
    "        rootfolder = (k := next(iter(country)), country.pop(k))\n",
    "        \n",
    "        # country label (bv: GB of NL of BE)\n",
    "        cty = rootfolder[0].replace(\"ParlaMint-\", \"\").replace(\".TEI\", \"\")\n",
    "        \n",
    "        # check of er wel jaarfolders zijn\n",
    "        if len(rootfolder[1]) == 1:\n",
    "\n",
    "            for year_folder in country:\n",
    "\n",
    "                for file in country[year_folder]:\n",
    "                    \n",
    "                    wordcount_df.loc[len(wordcount_df.index)] = [cty, \n",
    "                                                                 file, \n",
    "                                                                 extract_wordcount(year_folder, file)]\n",
    "\n",
    "        # geen jaarfolders\n",
    "        else:\n",
    "\n",
    "            # haal de personendata uit de filelijst\n",
    "            rootfolder[1].pop(0)\n",
    "\n",
    "            for file in rootfolder[1]:                \n",
    "                \n",
    "                wordcount_df.loc[len(wordcount_df.index)] = [cty, \n",
    "                                                             file, \n",
    "                                                             extract_wordcount(rootfolder[0], file)]\n",
    "\n",
    "        print(\"---------------------------------------------------------------\\n\\n\")\n",
    "        print(cty + \" is uploaded to elastic\\n\\n\")\n",
    "        print(\"---------------------------------------------------------------\\n\\n\")\n",
    "    \n",
    "    return wordcount_df"
   ]
  },
  {
   "cell_type": "code",
   "execution_count": null,
   "id": "669bf5bd",
   "metadata": {},
   "outputs": [],
   "source": [
    "selected_countries = ['ParlaMint-BE.TEI',\n",
    "                      'ParlaMint-BG.TEI',\n",
    "                      'ParlaMint-CZ.TEI',\n",
    "                      'ParlaMint-DK.TEI',\n",
    "                      'ParlaMint-ES.TEI',\n",
    "                      'ParlaMint-FR.TEI',\n",
    "                      'ParlaMint-GB.TEI',\n",
    "                      'ParlaMint-HR.TEI',\n",
    "                      'ParlaMint-HU.TEI',\n",
    "                      'ParlaMint-IS.TEI',\n",
    "                      'ParlaMint-IT.TEI',\n",
    "                      'ParlaMint-LT.TEI',\n",
    "                      'ParlaMint-NL.TEI',\n",
    "                      'ParlaMint-LV.TEI',\n",
    "                      'ParlaMint-PL.TEI',\n",
    "                      'ParlaMint-SI.TEI',\n",
    "                      'ParlaMint-TR.TEI']\n",
    "\n",
    "# selected_countries = [\"ParlaMint-BG.TEI\"]\n",
    "\n",
    "# selected_countries = [\"ParlaMint-NL.TEI\"]\n",
    "\n",
    "test_wordcount_df = get_wordcount_df(selected_countries)"
   ]
  },
  {
   "cell_type": "code",
   "execution_count": null,
   "id": "aff8d6a0",
   "metadata": {},
   "outputs": [],
   "source": [
    "display(test_wordcount_df)"
   ]
  },
  {
   "cell_type": "code",
   "execution_count": null,
   "id": "7927ffd2",
   "metadata": {},
   "outputs": [],
   "source": [
    "csv_loc = 'C:/Users/Asher/Documents/School/_Scriptie/Data/xml_word_counts.csv'\n",
    "\n",
    "# test_wordcount_df.to_csv(csv_loc, index=False)"
   ]
  },
  {
   "cell_type": "code",
   "execution_count": null,
   "id": "4fe1b38a",
   "metadata": {},
   "outputs": [],
   "source": [
    "df_words_import = pd.read_csv(csv_loc)\n",
    "\n",
    "display(df_words_import)"
   ]
  }
 ],
 "metadata": {
  "kernelspec": {
   "display_name": "Python 3 (ipykernel)",
   "language": "python",
   "name": "python3"
  },
  "language_info": {
   "codemirror_mode": {
    "name": "ipython",
    "version": 3
   },
   "file_extension": ".py",
   "mimetype": "text/x-python",
   "name": "python",
   "nbconvert_exporter": "python",
   "pygments_lexer": "ipython3",
   "version": "3.9.6"
  }
 },
 "nbformat": 4,
 "nbformat_minor": 5
}
