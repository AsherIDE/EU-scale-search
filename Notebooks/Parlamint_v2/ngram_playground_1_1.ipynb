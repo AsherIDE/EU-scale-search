{
 "cells": [
  {
   "cell_type": "code",
   "execution_count": null,
   "id": "05309226",
   "metadata": {},
   "outputs": [],
   "source": [
    "from elasticsearch import Elasticsearch\n",
    "\n",
    "import time\n",
    "\n",
    "import pandas as pd\n",
    "import plotly.express as px"
   ]
  },
  {
   "cell_type": "code",
   "execution_count": null,
   "id": "a73a5dff",
   "metadata": {},
   "outputs": [],
   "source": [
    "# Elastic host\n",
    "es = Elasticsearch(\n",
    "    hosts=[\n",
    "            \"https://localhost:9200\"\n",
    "    ],\n",
    "    basic_auth=(\"elastic\", \"NES9DZ-QwhanXAQf9caV\"),\n",
    "#     use_ssl=True,\n",
    "#     verify_certs=False,\n",
    "    ca_certs=\"./ca.crt\"\n",
    ")"
   ]
  },
  {
   "cell_type": "code",
   "execution_count": null,
   "id": "1adb7b80",
   "metadata": {},
   "outputs": [],
   "source": [
    "# NOTE: input is {search_key: value, search_key2: value2}\n",
    "# query function\n",
    "def query(search_dict):\n",
    "    processed_search_list = []\n",
    "    \n",
    "    # loop door alle search elements heen\n",
    "    for k, v in search_dict.items():\n",
    "        processed_search_list.append({\"match_phrase\" : {k : v}})\n",
    "        \n",
    "    # stel de uitkomst samen\n",
    "    result = es.search(\n",
    "    index = \"search\",\n",
    "    size = 10000, # TODO: Zorg dat er een groter limit is dan 10000\n",
    "    query = {\n",
    "        \"bool\" : {\n",
    "            \"must\": processed_search_list,},})\n",
    "    \n",
    "    return result"
   ]
  },
  {
   "cell_type": "code",
   "execution_count": null,
   "id": "0b3ddeda",
   "metadata": {},
   "outputs": [],
   "source": [
    "# query testruimte\n",
    "start_time = time.time()\n",
    "\n",
    "# de query zelf\n",
    "# test_result = query({\"content_simplified\":\"ete\", \n",
    "#                      \"person_simplified\":\"FreDeriC BARBIER\", \n",
    "#                      \"country\":\"FR\"})\n",
    "\n",
    "test_result = query({\"content_simplified\":\"groen\",\n",
    "                     \"party\":\"SP\",\n",
    "                     \"year\":\"2018\"})\n",
    "\n",
    "print(\"Got %d Hits:\" % test_result['hits']['total']['value'])\n",
    "\n",
    "for hit in test_result['hits']['hits']:\n",
    "    print(\"%(person)s (%(party)s) \\n(%(year)s-%(month)s-%(day)s) %(segment)s:\\n %(content)s \\n\" % hit[\"_source\"])\n",
    "\n",
    "print(\"--- %s seconds ---\" % (time.time() - start_time))"
   ]
  },
  {
   "cell_type": "code",
   "execution_count": null,
   "id": "968fac07",
   "metadata": {},
   "outputs": [],
   "source": [
    "# neemt een query als input en geeft een df terug voor plotly express\n",
    "# NOTE: x en y zijn nog niet verwerkt\n",
    "def get_ngram_df(query, x=\"year\", y=\"scaled\"):\n",
    "    dates_dict = {}\n",
    "    \n",
    "    # loop door elk resultaat\n",
    "    for hit in query:\n",
    "        src = hit[\"_source\"]\n",
    "        \n",
    "        # stel de date op (rond af op MAANDEN)\n",
    "        # NOTE: 1 veranderen naar src[\"day\"] voor specifieker\n",
    "        date = \"{}-{}-{}\".format(src[\"year\"], src[\"month\"], 1)\n",
    "        \n",
    "        # tel hoeveel hits er zijn per date\n",
    "        if date in dates_dict:\n",
    "            \n",
    "            dates_dict[date] += 1\n",
    "            \n",
    "        else:\n",
    "            \n",
    "            dates_dict[date] = 1\n",
    "    \n",
    "    # stel de dataframe op voor plotly express\n",
    "    df = pd.DataFrame.from_dict((dates_dict), columns=['count'], orient='index').reset_index().rename(columns={'index': 'date'})\n",
    "        \n",
    "    return df.sort_values(by=['date'])"
   ]
  },
  {
   "cell_type": "code",
   "execution_count": null,
   "id": "16eecf52",
   "metadata": {},
   "outputs": [],
   "source": [
    "# ngram testruimte\n",
    "word_1 = \"democracy\"\n",
    "word_2 = \"democratie\"\n",
    "\n",
    "test_result_1 = query({\"content_simplified\":word_1})\n",
    "test_result_2 = query({\"content_simplified\":word_2})\n",
    "\n",
    "print(\"Got %d Hits:\" % test_result_1['hits']['total']['value'])\n",
    "print(\"Got %d Hits:\" % test_result_2['hits']['total']['value'])\n",
    "\n",
    "test_ngram_df_1 = get_ngram_df(test_result_1['hits']['hits'])\n",
    "test_ngram_df_1[\"query\"] = word_1\n",
    "test_ngram_df_2 = get_ngram_df(test_result_2['hits']['hits'])\n",
    "test_ngram_df_2[\"query\"] = word_2\n",
    "\n",
    "test_ngram_df = test_ngram_df_1.merge(test_ngram_df_2, \"outer\")\n",
    "\n",
    "fig = px.line(test_ngram_df, x=\"date\", y=\"count\", color='query', title='Ngram (soort van)')\n",
    "\n",
    "fig.show()"
   ]
  }
 ],
 "metadata": {
  "kernelspec": {
   "display_name": "Python 3 (ipykernel)",
   "language": "python",
   "name": "python3"
  },
  "language_info": {
   "codemirror_mode": {
    "name": "ipython",
    "version": 3
   },
   "file_extension": ".py",
   "mimetype": "text/x-python",
   "name": "python",
   "nbconvert_exporter": "python",
   "pygments_lexer": "ipython3",
   "version": "3.9.6"
  }
 },
 "nbformat": 4,
 "nbformat_minor": 5
}
